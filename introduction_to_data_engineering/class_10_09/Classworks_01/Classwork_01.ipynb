{
 "cells": [
  {
   "cell_type": "code",
   "execution_count": null,
   "id": "a33b14ab",
   "metadata": {},
   "outputs": [],
   "source": [
    "# **************************************************************************** #\n",
    "#                                                                              #\n",
    "#                                                         :::      ::::::::    #\n",
    "#    Classwork_01.ipynb                                 :+:      :+:    :+:    #\n",
    "#                                                     +:+ +:+         +:+      #\n",
    "#    By: jduong22 <juha.duong@edu.turkuamk.fi>      +#+  +:+       +#+         #\n",
    "#                                                 +#+#+#+#+#+   +#+            #\n",
    "#    Created: 2024/09/10 13:43:59 by jduong22          #+#    #+#              #\n",
    "#    Updated: 2024/09/10 13:43:59 by jduong22         ###   ########.fr        #\n",
    "#                                                                              #\n",
    "# **************************************************************************** #\n",
    "\n"
   ]
  },
  {
   "cell_type": "markdown",
   "id": "c6726f6a",
   "metadata": {},
   "source": [
    "\n",
    "\n",
    "# Classwork 01: Employee Data Manipulation\n",
    "\n",
    "### Objective:\n",
    "In this hands-on assignment, you will:\n",
    "\n",
    "- Read and write data from CSV files.\n",
    "- Use Pandas to manipulate datasets.\n",
    "- Apply Numpy for numerical operations and statistical analysis.\n",
    "- Perform more advanced data grouping and filtering operations.\n",
    "\n",
    "**Hints** for completing the tasks in this exercise can be found in today's practice work (HandsOn_01), and the solutions will be published on ITS after the lecture.\n",
    "\n",
    "### Instructions:\n",
    "You need to provid a dataset of employees with the following columns:\n",
    "\n",
    "- **Employee Name:** The name of the employee.\n",
    "- **Age:** The age of the employee.\n",
    "- **Department:** The department where the employee works.\n",
    "- **Salary:** The employee's monthly salary.\n",
    "- **Years_of_Experience:** The number of years the employee has worked."
   ]
  },
  {
   "cell_type": "markdown",
   "id": "e3ba5cda",
   "metadata": {},
   "source": [
    "Perform the following tasks on the dataset using Pandas and Numpy. Write code to solve each problem and submit your script or notebook.\n",
    "\n",
    "#### 1. Create a New CSV File:\n",
    "- Write a Python script to create and save the following data to a CSV file called employees.csv:\n",
    "- **Hint:** We can use a dictionary to represent the employee data and pass it to pd.DataFrame() to create a DataFrame."
   ]
  },
  {
   "attachments": {
    "03.png": {
     "image/png": "[encoded data removed]"
    }
   },
   "cell_type": "markdown",
   "id": "65ef839a",
   "metadata": {},
   "source": [
    "![03.png](attachment:03.png)"
   ]
  },
  {
   "cell_type": "code",
   "execution_count": 1,
   "id": "6d11fd17",
   "metadata": {},
   "outputs": [],
   "source": [
    "# code to create the file:\n",
    "import csv\n",
    "\n",
    "# Data for the employees table\n",
    "data = [\n",
    "    ['Name', 'Age', 'Department', 'Salary', 'Years_of_Experience'],\n",
    "    ['John', '28', 'HR', '5000', '3'],\n",
    "    ['Alice', '34', 'Finance', '7000', '10'],\n",
    "    ['Bob', '25', 'IT', '4500', '2'],\n",
    "    ['David', '45', 'Finance', '8000', '15'],\n",
    "    ['Eve', '29', 'IT', '4800', '4']\n",
    "]\n",
    "# Open the CSV file in write mode and create it\n",
    "with open('employees.csv', 'w', newline='') as file:\n",
    "    writer = csv.writer(file)\n",
    "    writer.writerows(data)"
   ]
  },
  {
   "cell_type": "markdown",
   "id": "bea57b43",
   "metadata": {},
   "source": [
    "#### 2. Read the CSV File into a DataFrame:\n",
    "\n",
    "- Use Pandas to load employees.csv into a DataFrame and print the data."
   ]
  },
  {
   "cell_type": "code",
   "execution_count": 5,
   "id": "17f9a4fb",
   "metadata": {},
   "outputs": [
    {
     "data": {
      "text/html": [
       "<div>\n",
       "<style scoped>\n",
       "    .dataframe tbody tr th:only-of-type {\n",
       "        vertical-align: middle;\n",
       "    }\n",
       "\n",
       "    .dataframe tbody tr th {\n",
       "        vertical-align: top;\n",
       "    }\n",
       "\n",
       "    .dataframe thead th {\n",
       "        text-align: right;\n",
       "    }\n",
       "</style>\n",
       "<table border=\"1\" class=\"dataframe\">\n",
       "  <thead>\n",
       "    <tr style=\"text-align: right;\">\n",
       "      <th></th>\n",
       "      <th>Name</th>\n",
       "      <th>Age</th>\n",
       "      <th>Department</th>\n",
       "      <th>Salary</th>\n",
       "      <th>Years_of_Experience</th>\n",
       "    </tr>\n",
       "  </thead>\n",
       "  <tbody>\n",
       "    <tr>\n",
       "      <th>0</th>\n",
       "      <td>John</td>\n",
       "      <td>28</td>\n",
       "      <td>HR</td>\n",
       "      <td>5000</td>\n",
       "      <td>3</td>\n",
       "    </tr>\n",
       "    <tr>\n",
       "      <th>1</th>\n",
       "      <td>Alice</td>\n",
       "      <td>34</td>\n",
       "      <td>Finance</td>\n",
       "      <td>7000</td>\n",
       "      <td>10</td>\n",
       "    </tr>\n",
       "    <tr>\n",
       "      <th>2</th>\n",
       "      <td>Bob</td>\n",
       "      <td>25</td>\n",
       "      <td>IT</td>\n",
       "      <td>4500</td>\n",
       "      <td>2</td>\n",
       "    </tr>\n",
       "    <tr>\n",
       "      <th>3</th>\n",
       "      <td>David</td>\n",
       "      <td>45</td>\n",
       "      <td>Finance</td>\n",
       "      <td>8000</td>\n",
       "      <td>15</td>\n",
       "    </tr>\n",
       "    <tr>\n",
       "      <th>4</th>\n",
       "      <td>Eve</td>\n",
       "      <td>29</td>\n",
       "      <td>IT</td>\n",
       "      <td>4800</td>\n",
       "      <td>4</td>\n",
       "    </tr>\n",
       "  </tbody>\n",
       "</table>\n",
       "</div>"
      ],
      "text/plain": [
       "    Name  Age Department  Salary  Years_of_Experience\n",
       "0   John   28         HR    5000                    3\n",
       "1  Alice   34    Finance    7000                   10\n",
       "2    Bob   25         IT    4500                    2\n",
       "3  David   45    Finance    8000                   15\n",
       "4    Eve   29         IT    4800                    4"
      ]
     },
     "execution_count": 5,
     "metadata": {},
     "output_type": "execute_result"
    }
   ],
   "source": [
    "\n",
    "# Read the CSV file into a Pandas DataFrame\n",
    "import pandas as pd\n",
    "# Print the DataFrame to see its contents\n",
    "df = pd.read_csv('employees.csv')\n",
    "print(df)"
   ]
  },
  {
   "cell_type": "markdown",
   "id": "6185fdd0",
   "metadata": {},
   "source": [
    "#### 3. Add a New Column 'Annual Salary':\n",
    "\n",
    "- Create a new column 'Annual Salary' that calculates the annual salary of each employee (monthly salary * 12)."
   ]
  },
  {
   "cell_type": "code",
   "execution_count": 6,
   "id": "ea0b040d",
   "metadata": {},
   "outputs": [
    {
     "name": "stdout",
     "output_type": "stream",
     "text": [
      "    Name  Age Department  Salary  Years_of_Experience  Annual_Salary\n",
      "0   John   28         HR    5000                    3          60000\n",
      "1  Alice   34    Finance    7000                   10          84000\n",
      "2    Bob   25         IT    4500                    2          54000\n",
      "3  David   45    Finance    8000                   15          96000\n",
      "4    Eve   29         IT    4800                    4          57600\n"
     ]
    }
   ],
   "source": [
    "# Calculate the annual salary (monthly salary * 12)\n",
    "df['Annual_Salary'] = df['Salary'] * 12\n",
    "# Print the updated DataFrame to check the new column\n",
    "print(df)"
   ]
  },
  {
   "cell_type": "markdown",
   "id": "13f1b1ba",
   "metadata": {},
   "source": [
    "#### 4. Filter Employees with More Than 5 Years of Experience: \n",
    "\n",
    "- Find all employees who have more than 5 years of experience and display their details.\n",
    "- **Hint:** We can use filtering with df[] to select rows where 'Years_of_Experience' is greater than 5."
   ]
  },
  {
   "cell_type": "code",
   "execution_count": 7,
   "id": "f817f570",
   "metadata": {},
   "outputs": [
    {
     "name": "stdout",
     "output_type": "stream",
     "text": [
      "    Name  Age Department  Salary  Years_of_Experience  Annual_Salary\n",
      "1  Alice   34    Finance    7000                   10          84000\n",
      "3  David   45    Finance    8000                   15          96000\n"
     ]
    }
   ],
   "source": [
    "# Filter rows where 'Years_of_Experience' > 5\n",
    "filtered_df = df[df['Years_of_Experience'] > 5]\n",
    "\n",
    "# Display the filtered DataFrame\n",
    "print(filtered_df)\n"
   ]
  },
  {
   "cell_type": "markdown",
   "id": "d64df30d",
   "metadata": {},
   "source": [
    "#### 5. Find the Average Salary: \n",
    "\n",
    "- Calculate and display the average salary of the employees.\n",
    "- **Hint:** The .mean() function is used to calculate the average of the 'Salary' column."
   ]
  },
  {
   "cell_type": "code",
   "execution_count": 8,
   "id": "1fec92f0",
   "metadata": {},
   "outputs": [
    {
     "name": "stdout",
     "output_type": "stream",
     "text": [
      "5860.0\n"
     ]
    }
   ],
   "source": [
    "# Calculate the average salary using the mean() function\n",
    "average_salary = df['Salary'].mean()\n",
    "\n",
    "# Print the average salary\n",
    "print(average_salary)\n"
   ]
  },
  {
   "cell_type": "markdown",
   "id": "ae9bf831",
   "metadata": {},
   "source": [
    "#### 6. Sort Employees by Salary: \n",
    "\n",
    "- Sort the employees in descending order based on their salary.\n",
    "- **Hint:** The .sort_values() function sorts the DataFrame by the 'Salary' column in descending order."
   ]
  },
  {
   "cell_type": "code",
   "execution_count": 9,
   "id": "c27e1d38",
   "metadata": {},
   "outputs": [
    {
     "name": "stdout",
     "output_type": "stream",
     "text": [
      "    Name  Age Department  Salary  Years_of_Experience  Annual_Salary\n",
      "3  David   45    Finance    8000                   15          96000\n",
      "1  Alice   34    Finance    7000                   10          84000\n",
      "0   John   28         HR    5000                    3          60000\n",
      "4    Eve   29         IT    4800                    4          57600\n",
      "2    Bob   25         IT    4500                    2          54000\n"
     ]
    }
   ],
   "source": [
    "# Sort the DataFrame by 'Salary' in descending order\n",
    "sorted_df = df.sort_values(by='Salary', ascending=False)\n",
    "\n",
    "# Display the sorted DataFrame\n",
    "print(sorted_df)\n"
   ]
  },
  {
   "cell_type": "markdown",
   "id": "355c753c",
   "metadata": {},
   "source": [
    "#### 7. Find Employees in the 'IT' Department\n",
    "\n",
    "- Display all the employees who work in the 'IT' department.\n",
    "- **Hint:** This filters employees where the 'Department' column equals 'IT'.\n"
   ]
  },
  {
   "cell_type": "code",
   "execution_count": 10,
   "id": "88f2bf08",
   "metadata": {},
   "outputs": [
    {
     "name": "stdout",
     "output_type": "stream",
     "text": [
      "  Name  Age Department  Salary  Years_of_Experience  Annual_Salary\n",
      "2  Bob   25         IT    4500                    2          54000\n",
      "4  Eve   29         IT    4800                    4          57600\n"
     ]
    }
   ],
   "source": [
    "# Filter rows where the 'Department' is 'IT'\n",
    "filter_it_df = df[df['Department'] == 'IT']\n",
    "\n",
    "# Display the filtered DataFrame\n",
    "print(filter_it_df)\n"
   ]
  },
  {
   "cell_type": "markdown",
   "id": "20ccdc1f",
   "metadata": {},
   "source": [
    "#### 8. Calculate Total Payroll: \n",
    "\n",
    "- Calculate the total amount the company spends on salaries each month (sum of all salaries).\n",
    "- **Hint:** The .sum() function is used to calculate the total of the 'Salary' column (i.e., total payroll)."
   ]
  },
  {
   "cell_type": "code",
   "execution_count": 11,
   "id": "266192ca",
   "metadata": {},
   "outputs": [
    {
     "name": "stdout",
     "output_type": "stream",
     "text": [
      "29300\n"
     ]
    }
   ],
   "source": [
    "# Calculate the total sum of the 'Salary' column\n",
    "total_salary = df['Salary'].sum()\n",
    "\n",
    "# Print the total monthly payroll\n",
    "print(total_salary)"
   ]
  },
  {
   "cell_type": "markdown",
   "id": "c7d89b3e",
   "metadata": {},
   "source": [
    "#### 9. Find the Oldest Employee: \n",
    "\n",
    "- Identify the oldest employee in the dataset and display their details.\n",
    "- **Hint:** The .max() function finds the maximum value of the 'Age' column, and we filter to find the row where the age is the highest."
   ]
  },
  {
   "cell_type": "code",
   "execution_count": 12,
   "id": "75e306b9",
   "metadata": {},
   "outputs": [
    {
     "name": "stdout",
     "output_type": "stream",
     "text": [
      "    Name  Age Department  Salary  Years_of_Experience  Annual_Salary\n",
      "3  David   45    Finance    8000                   15          96000\n"
     ]
    }
   ],
   "source": [
    "# Find the row where 'Age' is the maximum (i.e., the oldest employee)\n",
    "oldest_employee = df[df['Age'] == df['Age'].max()]\n",
    "\n",
    "# Display the oldest employee's details\n",
    "print(oldest_employee)\n"
   ]
  },
  {
   "cell_type": "markdown",
   "id": "481ebd45",
   "metadata": {},
   "source": [
    "#### 10.Group Employees by Department and Find the Average Salary\n",
    "\n",
    "- Group the employees by their department and calculate the average salary in each department.\n",
    "- **Hint:** The groupby() function groups the employees by the 'Department' column, and then the .mean() function calculates the average salary within each department."
   ]
  },
  {
   "cell_type": "code",
   "execution_count": 13,
   "id": "286c70fb",
   "metadata": {},
   "outputs": [
    {
     "name": "stdout",
     "output_type": "stream",
     "text": [
      "Department\n",
      "Finance    7500.0\n",
      "HR         5000.0\n",
      "IT         4650.0\n",
      "Name: Salary, dtype: float64\n"
     ]
    }
   ],
   "source": [
    "# Group by 'Department' and calculate the mean salary for each group\n",
    "grouped_df = df.groupby('Department')['Salary'].mean()\n",
    "\n",
    "# Print the average salary for each department\n",
    "print(grouped_df)\n"
   ]
  },
  {
   "cell_type": "markdown",
   "id": "ff1610d7",
   "metadata": {},
   "source": [
    "#### 11. Group Employees by Department and Calculate Total Annual Salary\n",
    "\n",
    "- Group the employees by their department and calculate the total annual salary for each department.\n",
    "- **Hint:** Similarly, groupby() is used to group employees by 'Department', and the .sum() function calculates the total annual salary for each department."
   ]
  },
  {
   "cell_type": "code",
   "execution_count": 14,
   "id": "bf44eafc",
   "metadata": {},
   "outputs": [
    {
     "name": "stdout",
     "output_type": "stream",
     "text": [
      "Department\n",
      "Finance    180000\n",
      "HR          60000\n",
      "IT         111600\n",
      "Name: Annual_Salary, dtype: int64\n"
     ]
    }
   ],
   "source": [
    "# Group by 'Department' and calculate the total annual salary for each group\n",
    "grouped_df = df.groupby('Department')['Annual_Salary'].sum()\n",
    "# Print the total annual salary for each department\n",
    "print(grouped_df)\n"
   ]
  },
  {
   "cell_type": "markdown",
   "id": "da165f19",
   "metadata": {},
   "source": [
    "#### 12. Add a Column 'Bonus' Based on Experience\n",
    "\n",
    "Add a new column **'Bonus'** to the DataFrame. The bonus is calculated as follows:\n",
    "\n",
    "- If the employee has **more than 5 years of experience**, they get a **10% bonus** of their monthly salary.\n",
    "- Otherwise, they get a **5% bonus** of their monthly salary.\n",
    "\n",
    "**Hint:** We can the .loc[] method to filter employees with more than 5 years of experience.\n",
    "\n",
    "This task reinforces the use of conditional logic with the .loc[] method, a key tool for data manipulation in Pandas. It teaches how to update specific rows or columns based on conditions, without needing to use apply() or lambda. \n",
    "\n",
    "**Note:** A more advanced solution for this kind of tasks is to use the apply() and lambada functions. In this case,  the lambda function is used inside the apply() function to create a new column, 'Bonus', based on the values in the 'Salary' and 'Years_of_Experience' columns of the DataFrame. You can search the web to find more information in this regard."
   ]
  },
  {
   "cell_type": "code",
   "execution_count": 16,
   "id": "de9bbce9",
   "metadata": {},
   "outputs": [
    {
     "name": "stdout",
     "output_type": "stream",
     "text": [
      "    Name  Age Department  Salary  Years_of_Experience  Annual_Salary  Bonus\n",
      "0   John   28         HR    5000                    3          60000    250\n",
      "1  Alice   34    Finance    7000                   10          84000    700\n",
      "2    Bob   25         IT    4500                    2          54000    225\n",
      "3  David   45    Finance    8000                   15          96000    800\n",
      "4    Eve   29         IT    4800                    4          57600    240\n"
     ]
    }
   ],
   "source": [
    "# Create a new 'Bonus' column initialized to 0. This is just a placeholder before we update the values based on the condition.\n",
    "df['Bonus'] = 0\n",
    "\n",
    "# Calculate bonus for employees with more than 5 years of experience (10% of salary)\n",
    "df.loc[df['Years_of_Experience'] > 5, 'Bonus'] = df['Salary'] * 0.1\n",
    "\n",
    "# Calculate bonus for employees with 5 years or less of experience (5% of salary)\n",
    "df.loc[df['Years_of_Experience'] <= 5, 'Bonus'] = df['Salary'] * 0.05\n",
    "\n",
    "# Print the DataFrame to check the added 'Bonus' column\n",
    "print(df)"
   ]
  },
  {
   "cell_type": "markdown",
   "id": "3b05981c",
   "metadata": {},
   "source": [
    "### Submission: \n",
    "\n",
    "- You need to submit this file into the related return box on ITS by the end of this session. Then you will Automatically get the 3 points for this participation.\n",
    "- The solution for this exercise will be uploaded on ITS after the lecture.\n",
    "\n",
    "### Good Luck!"
   ]
  },
  {
   "cell_type": "code",
   "execution_count": null,
   "id": "edde39ae",
   "metadata": {},
   "outputs": [],
   "source": []
  }
 ],
 "metadata": {
  "kernelspec": {
   "display_name": "Python 3 (ipykernel)",
   "language": "python",
   "name": "python3"
  },
  "language_info": {
   "codemirror_mode": {
    "name": "ipython",
    "version": 3
   },
   "file_extension": ".py",
   "mimetype": "text/x-python",
   "name": "python",
   "nbconvert_exporter": "python",
   "pygments_lexer": "ipython3",
   "version": "3.12.0"
  }
 },
 "nbformat": 4,
 "nbformat_minor": 5
}
